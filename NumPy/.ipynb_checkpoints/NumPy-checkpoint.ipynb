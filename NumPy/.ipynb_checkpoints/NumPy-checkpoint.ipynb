{
 "cells": [
  {
   "cell_type": "markdown",
   "id": "53b79179",
   "metadata": {},
   "source": [
    "# why Numpy? isn't it basically python lists?\n",
    "Numpy is under the hood written in the programming lang C which is way more faster to use than python \n"
   ]
  },
  {
   "cell_type": "markdown",
   "id": "78ce5178",
   "metadata": {},
   "source": [
    "## Numpy is the backbone of numerical computing in python "
   ]
  },
  {
   "cell_type": "code",
   "execution_count": 1,
   "id": "add74fb6",
   "metadata": {},
   "outputs": [],
   "source": [
    "import numpy as np"
   ]
  },
  {
   "cell_type": "markdown",
   "id": "cf9a84e5",
   "metadata": {},
   "source": [
    "## Data Types && Attributes"
   ]
  },
  {
   "cell_type": "markdown",
   "id": "175fc628",
   "metadata": {},
   "source": [
    "# NumPy's main datatype is ndarray(n-dimensional array)"
   ]
  },
  {
   "cell_type": "code",
   "execution_count": 2,
   "id": "cf482c26",
   "metadata": {},
   "outputs": [],
   "source": [
    "a1 = np.array([1,2,3])"
   ]
  },
  {
   "cell_type": "code",
   "execution_count": null,
   "id": "54823e67",
   "metadata": {},
   "outputs": [],
   "source": []
  },
  {
   "cell_type": "code",
   "execution_count": null,
   "id": "83c70d2b",
   "metadata": {},
   "outputs": [],
   "source": []
  },
  {
   "cell_type": "code",
   "execution_count": null,
   "id": "ac946bfc",
   "metadata": {},
   "outputs": [],
   "source": []
  }
 ],
 "metadata": {
  "kernelspec": {
   "display_name": "Python 3 (ipykernel)",
   "language": "python",
   "name": "python3"
  },
  "language_info": {
   "codemirror_mode": {
    "name": "ipython",
    "version": 3
   },
   "file_extension": ".py",
   "mimetype": "text/x-python",
   "name": "python",
   "nbconvert_exporter": "python",
   "pygments_lexer": "ipython3",
   "version": "3.11.3"
  }
 },
 "nbformat": 4,
 "nbformat_minor": 5
}
