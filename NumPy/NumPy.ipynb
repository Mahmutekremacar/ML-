{
 "cells": [
  {
   "cell_type": "markdown",
   "id": "712d8122",
   "metadata": {},
   "source": [
    "# why Numpy? isn't it basically python lists?\n",
    "Numpy is under the hood written in the programming lang C which is way more faster to use than python \n"
   ]
  },
  {
   "cell_type": "markdown",
   "id": "2a2b0afa",
   "metadata": {},
   "source": [
    "## Numpy is the backbone of numerical computing in python "
   ]
  },
  {
   "cell_type": "code",
   "execution_count": 1,
   "id": "5bcb47de",
   "metadata": {},
   "outputs": [],
   "source": [
    "import numpy as np"
   ]
  },
  {
   "cell_type": "markdown",
   "id": "1dede9de",
   "metadata": {},
   "source": [
    "## Data Types && Attributes"
   ]
  },
  {
   "cell_type": "markdown",
   "id": "8bb1057e",
   "metadata": {},
   "source": [
    "# NumPy's main datatype is ndarray(n-dimensional array)"
   ]
  },
  {
   "cell_type": "code",
   "execution_count": 2,
   "id": "c95266b3",
   "metadata": {},
   "outputs": [],
   "source": [
    "a1 = np.array([1,2,3])"
   ]
  },
  {
   "cell_type": "code",
   "execution_count": 3,
   "id": "377a1bba",
   "metadata": {},
   "outputs": [
    {
     "data": {
      "text/plain": [
       "numpy.ndarray"
      ]
     },
     "execution_count": 3,
     "metadata": {},
     "output_type": "execute_result"
    }
   ],
   "source": [
    "type(a1)"
   ]
  },
  {
   "cell_type": "code",
   "execution_count": 4,
   "id": "9819a16a",
   "metadata": {},
   "outputs": [],
   "source": [
    "a2 = np.array([[1,2.3,3.3],\n",
    "              [4,5,6.5]])\n",
    "a3 = np.array([[[1,2,3],\n",
    "               [4,5.5,6],\n",
    "               [7,8,9]],\n",
    "              [[10,11,12],\n",
    "              [13,14,15],\n",
    "              [16,17,18]]])"
   ]
  },
  {
   "cell_type": "code",
   "execution_count": 5,
   "id": "a78f8956",
   "metadata": {},
   "outputs": [
    {
     "data": {
      "text/plain": [
       "array([[1. , 2.3, 3.3],\n",
       "       [4. , 5. , 6.5]])"
      ]
     },
     "execution_count": 5,
     "metadata": {},
     "output_type": "execute_result"
    }
   ],
   "source": [
    "a2"
   ]
  },
  {
   "cell_type": "code",
   "execution_count": 6,
   "id": "0f92f8d1",
   "metadata": {},
   "outputs": [
    {
     "data": {
      "text/plain": [
       "array([[[ 1. ,  2. ,  3. ],\n",
       "        [ 4. ,  5.5,  6. ],\n",
       "        [ 7. ,  8. ,  9. ]],\n",
       "\n",
       "       [[10. , 11. , 12. ],\n",
       "        [13. , 14. , 15. ],\n",
       "        [16. , 17. , 18. ]]])"
      ]
     },
     "execution_count": 6,
     "metadata": {},
     "output_type": "execute_result"
    }
   ],
   "source": [
    "a3"
   ]
  },
  {
   "cell_type": "markdown",
   "id": "e5f228a8",
   "metadata": {},
   "source": [
    "### Anatomy of Numpy Array\n"
   ]
  },
  {
   "cell_type": "markdown",
   "id": "f83abfd0",
   "metadata": {},
   "source": [
    "It is a very immportant jubject bacause in ML yu=ou need to be sure that the arrays you put in to algorithm mst be in same dimension as the entry"
   ]
  },
  {
   "cell_type": "code",
   "execution_count": 7,
   "id": "ec9e3205",
   "metadata": {},
   "outputs": [
    {
     "data": {
      "text/plain": [
       "(3,)"
      ]
     },
     "execution_count": 7,
     "metadata": {},
     "output_type": "execute_result"
    }
   ],
   "source": [
    "a1.shape"
   ]
  },
  {
   "cell_type": "code",
   "execution_count": 8,
   "id": "9ecf245a",
   "metadata": {},
   "outputs": [
    {
     "data": {
      "text/plain": [
       "(2, 3)"
      ]
     },
     "execution_count": 8,
     "metadata": {},
     "output_type": "execute_result"
    }
   ],
   "source": [
    "a2.shape"
   ]
  },
  {
   "cell_type": "code",
   "execution_count": 9,
   "id": "d6e347ad",
   "metadata": {},
   "outputs": [
    {
     "data": {
      "text/plain": [
       "(2, 3, 3)"
      ]
     },
     "execution_count": 9,
     "metadata": {},
     "output_type": "execute_result"
    }
   ],
   "source": [
    "a3.shape"
   ]
  },
  {
   "cell_type": "code",
   "execution_count": 10,
   "id": "c1d9203d",
   "metadata": {},
   "outputs": [
    {
     "data": {
      "text/plain": [
       "array([1, 2, 3])"
      ]
     },
     "execution_count": 10,
     "metadata": {},
     "output_type": "execute_result"
    }
   ],
   "source": [
    "a1"
   ]
  },
  {
   "cell_type": "code",
   "execution_count": 11,
   "id": "5a469346",
   "metadata": {},
   "outputs": [
    {
     "data": {
      "text/plain": [
       "array([[1. , 2.3, 3.3],\n",
       "       [4. , 5. , 6.5]])"
      ]
     },
     "execution_count": 11,
     "metadata": {},
     "output_type": "execute_result"
    }
   ],
   "source": [
    "a2"
   ]
  },
  {
   "cell_type": "code",
   "execution_count": 12,
   "id": "668a43e0",
   "metadata": {},
   "outputs": [
    {
     "data": {
      "text/plain": [
       "array([[[ 1. ,  2. ,  3. ],\n",
       "        [ 4. ,  5.5,  6. ],\n",
       "        [ 7. ,  8. ,  9. ]],\n",
       "\n",
       "       [[10. , 11. , 12. ],\n",
       "        [13. , 14. , 15. ],\n",
       "        [16. , 17. , 18. ]]])"
      ]
     },
     "execution_count": 12,
     "metadata": {},
     "output_type": "execute_result"
    }
   ],
   "source": [
    "a3 "
   ]
  },
  {
   "cell_type": "code",
   "execution_count": null,
   "id": "08ff695f",
   "metadata": {},
   "outputs": [],
   "source": []
  },
  {
   "cell_type": "code",
   "execution_count": null,
   "id": "81822e40",
   "metadata": {},
   "outputs": [],
   "source": []
  },
  {
   "cell_type": "markdown",
   "id": "630af27c",
   "metadata": {},
   "source": [
    "### .ndim (Number of Dimensions ) "
   ]
  },
  {
   "cell_type": "code",
   "execution_count": 13,
   "id": "22214242",
   "metadata": {},
   "outputs": [
    {
     "data": {
      "text/plain": [
       "(1, 2, 3)"
      ]
     },
     "execution_count": 13,
     "metadata": {},
     "output_type": "execute_result"
    }
   ],
   "source": [
    "a1.ndim, a2.ndim, a3.ndim "
   ]
  },
  {
   "cell_type": "markdown",
   "id": "4830fab6",
   "metadata": {},
   "source": [
    "#####  ML algorithm will find patterns in your arrays"
   ]
  },
  {
   "cell_type": "code",
   "execution_count": 14,
   "id": "6be988fd",
   "metadata": {},
   "outputs": [
    {
     "data": {
      "text/plain": [
       "(dtype('int32'), dtype('float64'), dtype('float64'))"
      ]
     },
     "execution_count": 14,
     "metadata": {},
     "output_type": "execute_result"
    }
   ],
   "source": [
    "a1.dtype, a2.dtype, a3.dtype"
   ]
  },
  {
   "cell_type": "code",
   "execution_count": 15,
   "id": "71259a67",
   "metadata": {},
   "outputs": [
    {
     "data": {
      "text/plain": [
       "(3, 6, 18)"
      ]
     },
     "execution_count": 15,
     "metadata": {},
     "output_type": "execute_result"
    }
   ],
   "source": [
    "a1.size, a2.size, a3.size"
   ]
  },
  {
   "cell_type": "code",
   "execution_count": 16,
   "id": "30cf9fd1",
   "metadata": {},
   "outputs": [
    {
     "data": {
      "text/plain": [
       "(numpy.ndarray, numpy.ndarray, numpy.ndarray)"
      ]
     },
     "execution_count": 16,
     "metadata": {},
     "output_type": "execute_result"
    }
   ],
   "source": [
    "type(a1), type(a2), type(a3)"
   ]
  },
  {
   "cell_type": "markdown",
   "id": "045fd0d3",
   "metadata": {},
   "source": [
    "#### ndarray is a universal datatype and veryvery flexible  "
   ]
  },
  {
   "cell_type": "markdown",
   "id": "b5e69af7",
   "metadata": {},
   "source": [
    "## Create a DataFrame from Numpy array\n"
   ]
  },
  {
   "cell_type": "code",
   "execution_count": 17,
   "id": "d3c2c9ab",
   "metadata": {},
   "outputs": [],
   "source": [
    "import pandas as pd \n",
    "\n",
    "df = pd.DataFrame(a2)"
   ]
  },
  {
   "cell_type": "code",
   "execution_count": 18,
   "id": "a82f1fac",
   "metadata": {},
   "outputs": [
    {
     "data": {
      "text/plain": [
       "(array([[1. , 2.3, 3.3],\n",
       "        [4. , 5. , 6.5]]),\n",
       "      0    1    2\n",
       " 0  1.0  2.3  3.3\n",
       " 1  4.0  5.0  6.5)"
      ]
     },
     "execution_count": 18,
     "metadata": {},
     "output_type": "execute_result"
    }
   ],
   "source": [
    "a2, df"
   ]
  },
  {
   "cell_type": "markdown",
   "id": "bf532ef3",
   "metadata": {},
   "source": [
    "#### pandas can perform manupilations on np.array when import as df within"
   ]
  },
  {
   "cell_type": "code",
   "execution_count": 19,
   "id": "9c8258d8",
   "metadata": {},
   "outputs": [],
   "source": [
    " e1=np.array([1.3,4])\n",
    "    "
   ]
  },
  {
   "cell_type": "code",
   "execution_count": 20,
   "id": "a2dfe831",
   "metadata": {},
   "outputs": [
    {
     "data": {
      "text/plain": [
       "array([1.3, 4. ])"
      ]
     },
     "execution_count": 20,
     "metadata": {},
     "output_type": "execute_result"
    }
   ],
   "source": [
    "e1"
   ]
  },
  {
   "cell_type": "code",
   "execution_count": 21,
   "id": "397d72f8",
   "metadata": {},
   "outputs": [],
   "source": [
    "e2 = np.array([[1,2,3],[4,5,6]])"
   ]
  },
  {
   "cell_type": "code",
   "execution_count": 22,
   "id": "c9b24513",
   "metadata": {},
   "outputs": [
    {
     "data": {
      "text/plain": [
       "array([[1, 2, 3],\n",
       "       [4, 5, 6]])"
      ]
     },
     "execution_count": 22,
     "metadata": {},
     "output_type": "execute_result"
    }
   ],
   "source": [
    "e2"
   ]
  },
  {
   "cell_type": "code",
   "execution_count": 23,
   "id": "072a44e5",
   "metadata": {},
   "outputs": [
    {
     "data": {
      "text/html": [
       "<div>\n",
       "<style scoped>\n",
       "    .dataframe tbody tr th:only-of-type {\n",
       "        vertical-align: middle;\n",
       "    }\n",
       "\n",
       "    .dataframe tbody tr th {\n",
       "        vertical-align: top;\n",
       "    }\n",
       "\n",
       "    .dataframe thead th {\n",
       "        text-align: right;\n",
       "    }\n",
       "</style>\n",
       "<table border=\"1\" class=\"dataframe\">\n",
       "  <thead>\n",
       "    <tr style=\"text-align: right;\">\n",
       "      <th></th>\n",
       "      <th>0</th>\n",
       "      <th>1</th>\n",
       "      <th>2</th>\n",
       "    </tr>\n",
       "  </thead>\n",
       "  <tbody>\n",
       "    <tr>\n",
       "      <th>0</th>\n",
       "      <td>1</td>\n",
       "      <td>2</td>\n",
       "      <td>3</td>\n",
       "    </tr>\n",
       "    <tr>\n",
       "      <th>1</th>\n",
       "      <td>4</td>\n",
       "      <td>5</td>\n",
       "      <td>6</td>\n",
       "    </tr>\n",
       "  </tbody>\n",
       "</table>\n",
       "</div>"
      ],
      "text/plain": [
       "   0  1  2\n",
       "0  1  2  3\n",
       "1  4  5  6"
      ]
     },
     "execution_count": 23,
     "metadata": {},
     "output_type": "execute_result"
    }
   ],
   "source": [
    "df_e2 = pd.DataFrame(e2)\n",
    "df_e2"
   ]
  },
  {
   "cell_type": "code",
   "execution_count": 24,
   "id": "270b4acf",
   "metadata": {},
   "outputs": [
    {
     "data": {
      "text/plain": [
       "array([[[1, 2, 3],\n",
       "        [4, 5, 6],\n",
       "        [1, 2, 3],\n",
       "        [4, 5, 6]],\n",
       "\n",
       "       [[9, 8, 7],\n",
       "        [6, 5, 4],\n",
       "        [1, 2, 3],\n",
       "        [4, 5, 6]]])"
      ]
     },
     "execution_count": 24,
     "metadata": {},
     "output_type": "execute_result"
    }
   ],
   "source": [
    "e3 = np.array([[[1,2,3],[4,5,6],\n",
    "                [1,2,3],[4,5,6]],\n",
    "               [[9,8,7],[6,5,4],\n",
    "                [1,2,3],[4,5,6]]])\n",
    "e3"
   ]
  },
  {
   "cell_type": "code",
   "execution_count": 25,
   "id": "964d8310",
   "metadata": {},
   "outputs": [
    {
     "data": {
      "text/plain": [
       "3"
      ]
     },
     "execution_count": 25,
     "metadata": {},
     "output_type": "execute_result"
    }
   ],
   "source": [
    "e3.ndim"
   ]
  },
  {
   "cell_type": "code",
   "execution_count": 26,
   "id": "46ad340d",
   "metadata": {},
   "outputs": [
    {
     "data": {
      "text/plain": [
       "array([[[[ 0,  1,  2],\n",
       "         [ 3,  4,  5]],\n",
       "\n",
       "        [[ 6,  7,  8],\n",
       "         [ 9, 10, 11]],\n",
       "\n",
       "        [[12, 13, 14],\n",
       "         [15, 16, 17]]],\n",
       "\n",
       "\n",
       "       [[[18, 19, 20],\n",
       "         [21, 22, 23]],\n",
       "\n",
       "        [[24, 25, 26],\n",
       "         [27, 28, 29]],\n",
       "\n",
       "        [[30, 31, 32],\n",
       "         [33, 34, 35]]],\n",
       "\n",
       "\n",
       "       [[[36, 37, 38],\n",
       "         [39, 40, 41]],\n",
       "\n",
       "        [[42, 43, 44],\n",
       "         [45, 46, 47]],\n",
       "\n",
       "        [[48, 49, 50],\n",
       "         [51, 52, 53]]],\n",
       "\n",
       "\n",
       "       [[[54, 55, 56],\n",
       "         [57, 58, 59]],\n",
       "\n",
       "        [[60, 61, 62],\n",
       "         [63, 64, 65]],\n",
       "\n",
       "        [[66, 67, 68],\n",
       "         [69, 70, 71]]]])"
      ]
     },
     "execution_count": 26,
     "metadata": {},
     "output_type": "execute_result"
    }
   ],
   "source": [
    "e4 = np.arange(72)\n",
    "e4 = np.reshape(e4, (4,3,2,3))\n",
    "e4"
   ]
  },
  {
   "cell_type": "code",
   "execution_count": 27,
   "id": "ee6bc5e7",
   "metadata": {},
   "outputs": [
    {
     "data": {
      "text/plain": [
       "4"
      ]
     },
     "execution_count": 27,
     "metadata": {},
     "output_type": "execute_result"
    }
   ],
   "source": [
    "e4.ndim"
   ]
  },
  {
   "cell_type": "markdown",
   "id": "c0942546",
   "metadata": {},
   "source": [
    "## Creating Numpy arrays "
   ]
  },
  {
   "cell_type": "code",
   "execution_count": 28,
   "id": "2cfc3417",
   "metadata": {},
   "outputs": [
    {
     "data": {
      "text/plain": [
       "array([1, 2, 3])"
      ]
     },
     "execution_count": 28,
     "metadata": {},
     "output_type": "execute_result"
    }
   ],
   "source": [
    "sample_array = np.array([1,2,3])\n",
    "sample_array"
   ]
  },
  {
   "cell_type": "code",
   "execution_count": 29,
   "id": "eace57ff",
   "metadata": {},
   "outputs": [
    {
     "data": {
      "text/plain": [
       "dtype('int32')"
      ]
     },
     "execution_count": 29,
     "metadata": {},
     "output_type": "execute_result"
    }
   ],
   "source": [
    "sample_array.dtype"
   ]
  },
  {
   "cell_type": "code",
   "execution_count": 30,
   "id": "79fdda04",
   "metadata": {},
   "outputs": [
    {
     "data": {
      "text/plain": [
       "array([[1., 1., 1.],\n",
       "       [1., 1., 1.]])"
      ]
     },
     "execution_count": 30,
     "metadata": {},
     "output_type": "execute_result"
    }
   ],
   "source": [
    "one = np.ones((2,3))\n",
    "one"
   ]
  },
  {
   "cell_type": "markdown",
   "id": "74dea630",
   "metadata": {},
   "source": [
    "#  Shift+ tab opens docstring of cursor's function "
   ]
  },
  {
   "cell_type": "code",
   "execution_count": 31,
   "id": "d065cd88",
   "metadata": {},
   "outputs": [
    {
     "data": {
      "text/plain": [
       "dtype('float64')"
      ]
     },
     "execution_count": 31,
     "metadata": {},
     "output_type": "execute_result"
    }
   ],
   "source": [
    "one.dtype"
   ]
  },
  {
   "cell_type": "code",
   "execution_count": 32,
   "id": "32574356",
   "metadata": {},
   "outputs": [
    {
     "data": {
      "text/plain": [
       "numpy.ndarray"
      ]
     },
     "execution_count": 32,
     "metadata": {},
     "output_type": "execute_result"
    }
   ],
   "source": [
    "type(one)"
   ]
  },
  {
   "cell_type": "code",
   "execution_count": 33,
   "id": "18cdfd71",
   "metadata": {},
   "outputs": [
    {
     "data": {
      "text/plain": [
       "array([[0., 0., 0.],\n",
       "       [0., 0., 0.]])"
      ]
     },
     "execution_count": 33,
     "metadata": {},
     "output_type": "execute_result"
    }
   ],
   "source": [
    "zeros = np.zeros((2,3))\n",
    "zeros"
   ]
  },
  {
   "cell_type": "code",
   "execution_count": 34,
   "id": "419b452b",
   "metadata": {},
   "outputs": [
    {
     "data": {
      "text/plain": [
       "array([0, 2, 4, 6, 8])"
      ]
     },
     "execution_count": 34,
     "metadata": {},
     "output_type": "execute_result"
    }
   ],
   "source": [
    "range_array = np.arange(0,10,2)\n",
    "range_array"
   ]
  },
  {
   "cell_type": "markdown",
   "id": "ee13de8c",
   "metadata": {},
   "source": [
    "-----"
   ]
  },
  {
   "cell_type": "markdown",
   "id": "1b7fd739",
   "metadata": {},
   "source": [
    "Docstring:\n",
    "randint(low, high=None, size=None, dtype=int)\n",
    "\n",
    "Return random integers from `low` (inclusive) to `high` (exclusive).\n",
    "\n",
    "Return random integers from the \"discrete uniform\" distribution of\n",
    "the specified dtype in the \"half-open\" interval [`low`, `high`). If\n",
    "`high` is None (the default), then results are from [0, `low`).\n"
   ]
  },
  {
   "cell_type": "code",
   "execution_count": 35,
   "id": "340216ea",
   "metadata": {},
   "outputs": [
    {
     "data": {
      "text/plain": [
       "array([[2, 1, 6, 2, 4],\n",
       "       [6, 6, 9, 7, 8],\n",
       "       [1, 0, 0, 6, 9]])"
      ]
     },
     "execution_count": 35,
     "metadata": {},
     "output_type": "execute_result"
    }
   ],
   "source": [
    "random_array = np.random.randint(0,10, size=(3,5))\n",
    "random_array"
   ]
  },
  {
   "cell_type": "markdown",
   "id": "09d477d9",
   "metadata": {},
   "source": [
    "."
   ]
  },
  {
   "cell_type": "code",
   "execution_count": 36,
   "id": "1b5c3c64",
   "metadata": {},
   "outputs": [
    {
     "data": {
      "text/plain": [
       "array([[0.33793713, 0.34778055, 0.82579005],\n",
       "       [0.56804029, 0.85862974, 0.8671817 ],\n",
       "       [0.11575331, 0.84371797, 0.72675641],\n",
       "       [0.41859306, 0.02802047, 0.03085588],\n",
       "       [0.24318404, 0.35486177, 0.44136608]])"
      ]
     },
     "execution_count": 36,
     "metadata": {},
     "output_type": "execute_result"
    }
   ],
   "source": [
    "rand_array_b = np.random.random((5,3))\n",
    "rand_array_b"
   ]
  },
  {
   "cell_type": "code",
   "execution_count": 37,
   "id": "cf47ed35",
   "metadata": {},
   "outputs": [
    {
     "data": {
      "text/plain": [
       "(5, 3)"
      ]
     },
     "execution_count": 37,
     "metadata": {},
     "output_type": "execute_result"
    }
   ],
   "source": [
    "rand_array_b.shape"
   ]
  },
  {
   "cell_type": "code",
   "execution_count": 38,
   "id": "7e91c272",
   "metadata": {},
   "outputs": [
    {
     "data": {
      "text/plain": [
       "2"
      ]
     },
     "execution_count": 38,
     "metadata": {},
     "output_type": "execute_result"
    }
   ],
   "source": [
    "rand_array_b.ndim"
   ]
  },
  {
   "cell_type": "code",
   "execution_count": 39,
   "id": "2e4f194d",
   "metadata": {},
   "outputs": [
    {
     "data": {
      "text/plain": [
       "array([[0.62055592, 0.98604439, 0.55221744],\n",
       "       [0.31478041, 0.45043339, 0.42294296],\n",
       "       [0.28816959, 0.973918  , 0.92557708],\n",
       "       [0.91731867, 0.54424945, 0.2717667 ],\n",
       "       [0.15422083, 0.79311069, 0.12930357]])"
      ]
     },
     "execution_count": 39,
     "metadata": {},
     "output_type": "execute_result"
    }
   ],
   "source": [
    "rand_array_c = np.random.rand(5,3)\n",
    "rand_array_c"
   ]
  },
  {
   "cell_type": "markdown",
   "id": "8593465c",
   "metadata": {},
   "source": [
    "------"
   ]
  },
  {
   "cell_type": "markdown",
   "id": "4c4bcdd5",
   "metadata": {},
   "source": [
    "# Pseudo-random numbers!!!(Seeds)\n"
   ]
  },
  {
   "cell_type": "code",
   "execution_count": 40,
   "id": "28c194d4",
   "metadata": {},
   "outputs": [
    {
     "data": {
      "text/plain": [
       "array([[5, 8, 9],\n",
       "       [5, 0, 0],\n",
       "       [1, 7, 6],\n",
       "       [9, 2, 4],\n",
       "       [5, 2, 4]])"
      ]
     },
     "execution_count": 40,
     "metadata": {},
     "output_type": "execute_result"
    }
   ],
   "source": [
    "np.random.seed(seed = 1)\n",
    "rand_array_d = np.random.randint(10, size=(5,3))\n",
    "rand_array_d"
   ]
  },
  {
   "cell_type": "markdown",
   "id": "0a423113",
   "metadata": {},
   "source": [
    "#### Seeds allow to use random numbers that are reproducable"
   ]
  },
  {
   "cell_type": "code",
   "execution_count": 41,
   "id": "46e00a21",
   "metadata": {},
   "outputs": [
    {
     "data": {
      "text/plain": [
       "array([[0.5218909 , 0.55011567, 0.70046432],\n",
       "       [0.53139004, 0.31229631, 0.06709716],\n",
       "       [0.90591227, 0.87585873, 0.35306843],\n",
       "       [0.46007908, 0.63008159, 0.65926849],\n",
       "       [0.28933397, 0.06547582, 0.56666506]])"
      ]
     },
     "execution_count": 41,
     "metadata": {},
     "output_type": "execute_result"
    }
   ],
   "source": [
    "np.random.seed(678)\n",
    "rand_array_e = np.random.random((5,3))\n",
    "rand_array_e"
   ]
  },
  {
   "cell_type": "code",
   "execution_count": 42,
   "id": "3e6eb738",
   "metadata": {},
   "outputs": [
    {
     "data": {
      "text/plain": [
       "array([[659662259, 882709079, 493951047],\n",
       "       [474091200, 860208379,  44058974],\n",
       "       [997254492, 475890433, 526024125],\n",
       "       [429448832, 911961945,  58396205],\n",
       "       [174846504, 404756329, 632195420]])"
      ]
     },
     "execution_count": 42,
     "metadata": {},
     "output_type": "execute_result"
    }
   ],
   "source": [
    "np.random.seed(1000)\n",
    "rand_array_f =  np.random.randint(0,1000000000, size=(5,3))\n",
    "rand_array_f"
   ]
  },
  {
   "cell_type": "markdown",
   "id": "bea31c63",
   "metadata": {},
   "source": [
    "----"
   ]
  },
  {
   "cell_type": "markdown",
   "id": "f62efe78",
   "metadata": {},
   "source": [
    "# 3. Viewing arrays & matrices"
   ]
  },
  {
   "cell_type": "code",
   "execution_count": 43,
   "id": "ebfb0125",
   "metadata": {},
   "outputs": [
    {
     "data": {
      "text/plain": [
       "(15,\n",
       " array([ 44058974,  58396205, 174846504, 404756329, 429448832, 474091200,\n",
       "        475890433, 493951047, 526024125, 632195420, 659662259, 860208379,\n",
       "        882709079, 911961945, 997254492]))"
      ]
     },
     "execution_count": 43,
     "metadata": {},
     "output_type": "execute_result"
    }
   ],
   "source": [
    "len(np.unique(rand_array_f)), np.unique(rand_array_f)"
   ]
  },
  {
   "cell_type": "markdown",
   "id": "4e1f365f",
   "metadata": {},
   "source": [
    "numpy.unique\n",
    "numpy.unique(ar, return_index=False, return_inverse=False, return_counts=False, axis=None, *, equal_nan=True)[source]\n",
    "\n",
    "Find the unique elements of an array.\n",
    "\n",
    "Returns the sorted unique elements of an array. There are three optional outputs in addition to the unique elements:"
   ]
  },
  {
   "cell_type": "code",
   "execution_count": 44,
   "id": "cf6f3554",
   "metadata": {},
   "outputs": [
    {
     "data": {
      "text/plain": [
       "array([1, 2, 3])"
      ]
     },
     "execution_count": 44,
     "metadata": {},
     "output_type": "execute_result"
    }
   ],
   "source": [
    "a1"
   ]
  },
  {
   "cell_type": "code",
   "execution_count": 45,
   "id": "9b32edef",
   "metadata": {},
   "outputs": [
    {
     "data": {
      "text/plain": [
       "1"
      ]
     },
     "execution_count": 45,
     "metadata": {},
     "output_type": "execute_result"
    }
   ],
   "source": [
    "a1[0]"
   ]
  },
  {
   "cell_type": "code",
   "execution_count": 46,
   "id": "d4789c01",
   "metadata": {},
   "outputs": [
    {
     "data": {
      "text/plain": [
       "array([[1. , 2.3, 3.3],\n",
       "       [4. , 5. , 6.5]])"
      ]
     },
     "execution_count": 46,
     "metadata": {},
     "output_type": "execute_result"
    }
   ],
   "source": [
    "a2"
   ]
  },
  {
   "cell_type": "code",
   "execution_count": 47,
   "id": "0ecfedfd",
   "metadata": {},
   "outputs": [
    {
     "data": {
      "text/plain": [
       "array([1. , 2.3, 3.3])"
      ]
     },
     "execution_count": 47,
     "metadata": {},
     "output_type": "execute_result"
    }
   ],
   "source": [
    "a2[0]"
   ]
  },
  {
   "cell_type": "code",
   "execution_count": 48,
   "id": "d1c69779",
   "metadata": {},
   "outputs": [
    {
     "data": {
      "text/plain": [
       "array([[[ 1. ,  2. ,  3. ],\n",
       "        [ 4. ,  5.5,  6. ],\n",
       "        [ 7. ,  8. ,  9. ]],\n",
       "\n",
       "       [[10. , 11. , 12. ],\n",
       "        [13. , 14. , 15. ],\n",
       "        [16. , 17. , 18. ]]])"
      ]
     },
     "execution_count": 48,
     "metadata": {},
     "output_type": "execute_result"
    }
   ],
   "source": [
    "a3"
   ]
  },
  {
   "cell_type": "code",
   "execution_count": 49,
   "id": "5ad05633",
   "metadata": {},
   "outputs": [
    {
     "data": {
      "text/plain": [
       "array([[1. , 2. , 3. ],\n",
       "       [4. , 5.5, 6. ],\n",
       "       [7. , 8. , 9. ]])"
      ]
     },
     "execution_count": 49,
     "metadata": {},
     "output_type": "execute_result"
    }
   ],
   "source": [
    "a3[0] "
   ]
  },
  {
   "cell_type": "markdown",
   "id": "c08b97fb",
   "metadata": {},
   "source": [
    "----"
   ]
  },
  {
   "cell_type": "code",
   "execution_count": 50,
   "id": "2dda5db5",
   "metadata": {},
   "outputs": [
    {
     "data": {
      "text/plain": [
       "(array([[[ 1. ,  2. ,  3. ],\n",
       "         [ 4. ,  5.5,  6. ],\n",
       "         [ 7. ,  8. ,  9. ]],\n",
       " \n",
       "        [[10. , 11. , 12. ],\n",
       "         [13. , 14. , 15. ],\n",
       "         [16. , 17. , 18. ]]]),\n",
       " (2, 3, 3))"
      ]
     },
     "execution_count": 50,
     "metadata": {},
     "output_type": "execute_result"
    }
   ],
   "source": [
    "a3, a3.shape"
   ]
  },
  {
   "cell_type": "code",
   "execution_count": 51,
   "id": "ad713d09",
   "metadata": {},
   "outputs": [
    {
     "data": {
      "text/plain": [
       "array([[[ 1. ,  2. ],\n",
       "        [ 4. ,  5.5]],\n",
       "\n",
       "       [[10. , 11. ],\n",
       "        [13. , 14. ]]])"
      ]
     },
     "execution_count": 51,
     "metadata": {},
     "output_type": "execute_result"
    }
   ],
   "source": [
    "a3[:2,:2,:2]"
   ]
  },
  {
   "cell_type": "code",
   "execution_count": 52,
   "id": "b70fc37c",
   "metadata": {},
   "outputs": [
    {
     "data": {
      "text/plain": [
       "array([[[[4, 9, 4, 4, 2],\n",
       "         [9, 8, 2, 4, 2],\n",
       "         [5, 5, 4, 0, 4],\n",
       "         [2, 5, 4, 7, 0]],\n",
       "\n",
       "        [[4, 7, 1, 0, 2],\n",
       "         [1, 7, 1, 5, 6],\n",
       "         [5, 7, 8, 8, 2],\n",
       "         [2, 9, 6, 3, 3]],\n",
       "\n",
       "        [[6, 5, 8, 4, 1],\n",
       "         [0, 9, 1, 8, 8],\n",
       "         [0, 2, 9, 3, 9],\n",
       "         [6, 2, 9, 5, 8]]],\n",
       "\n",
       "\n",
       "       [[[5, 6, 9, 6, 7],\n",
       "         [6, 3, 4, 8, 1],\n",
       "         [3, 7, 2, 0, 4],\n",
       "         [4, 1, 6, 5, 1]],\n",
       "\n",
       "        [[4, 1, 7, 4, 5],\n",
       "         [0, 6, 2, 9, 7],\n",
       "         [0, 8, 0, 5, 3],\n",
       "         [0, 4, 3, 3, 3]],\n",
       "\n",
       "        [[6, 4, 7, 2, 4],\n",
       "         [4, 2, 4, 1, 2],\n",
       "         [3, 9, 0, 5, 2],\n",
       "         [1, 0, 6, 8, 9]]]])"
      ]
     },
     "execution_count": 52,
     "metadata": {},
     "output_type": "execute_result"
    }
   ],
   "source": [
    "a4 = np.random.randint(10, size= (2,3,4,5))\n",
    "a4"
   ]
  },
  {
   "cell_type": "code",
   "execution_count": 53,
   "id": "bd9c6f7a",
   "metadata": {},
   "outputs": [
    {
     "data": {
      "text/plain": [
       "((2, 3, 4, 5), 4)"
      ]
     },
     "execution_count": 53,
     "metadata": {},
     "output_type": "execute_result"
    }
   ],
   "source": [
    "a4.shape, a4.ndim"
   ]
  },
  {
   "cell_type": "markdown",
   "id": "048f2e56",
   "metadata": {},
   "source": [
    "### Getting te first four numbers of inner most arrays"
   ]
  },
  {
   "cell_type": "code",
   "execution_count": 54,
   "id": "9b1da568",
   "metadata": {},
   "outputs": [
    {
     "data": {
      "text/plain": [
       "array([[[[4, 9, 4, 4],\n",
       "         [9, 8, 2, 4],\n",
       "         [5, 5, 4, 0],\n",
       "         [2, 5, 4, 7]],\n",
       "\n",
       "        [[4, 7, 1, 0],\n",
       "         [1, 7, 1, 5],\n",
       "         [5, 7, 8, 8],\n",
       "         [2, 9, 6, 3]],\n",
       "\n",
       "        [[6, 5, 8, 4],\n",
       "         [0, 9, 1, 8],\n",
       "         [0, 2, 9, 3],\n",
       "         [6, 2, 9, 5]]],\n",
       "\n",
       "\n",
       "       [[[5, 6, 9, 6],\n",
       "         [6, 3, 4, 8],\n",
       "         [3, 7, 2, 0],\n",
       "         [4, 1, 6, 5]],\n",
       "\n",
       "        [[4, 1, 7, 4],\n",
       "         [0, 6, 2, 9],\n",
       "         [0, 8, 0, 5],\n",
       "         [0, 4, 3, 3]],\n",
       "\n",
       "        [[6, 4, 7, 2],\n",
       "         [4, 2, 4, 1],\n",
       "         [3, 9, 0, 5],\n",
       "         [1, 0, 6, 8]]]])"
      ]
     },
     "execution_count": 54,
     "metadata": {},
     "output_type": "execute_result"
    }
   ],
   "source": [
    "a4[:,:,:,:4]"
   ]
  },
  {
   "cell_type": "markdown",
   "id": "d8dd1227",
   "metadata": {},
   "source": [
    "# Manupilating & Comparing Arrays"
   ]
  },
  {
   "cell_type": "markdown",
   "id": "dde52f53",
   "metadata": {},
   "source": [
    "### Arithmetic"
   ]
  },
  {
   "cell_type": "code",
   "execution_count": 55,
   "id": "80da70f3",
   "metadata": {},
   "outputs": [
    {
     "data": {
      "text/plain": [
       "array([1, 2, 3])"
      ]
     },
     "execution_count": 55,
     "metadata": {},
     "output_type": "execute_result"
    }
   ],
   "source": [
    "a1"
   ]
  },
  {
   "cell_type": "code",
   "execution_count": 56,
   "id": "1f4b7c94",
   "metadata": {},
   "outputs": [
    {
     "data": {
      "text/plain": [
       "array([[1., 1., 1.],\n",
       "       [1., 1., 1.]])"
      ]
     },
     "execution_count": 56,
     "metadata": {},
     "output_type": "execute_result"
    }
   ],
   "source": [
    "one"
   ]
  },
  {
   "cell_type": "code",
   "execution_count": 57,
   "id": "b871208e",
   "metadata": {},
   "outputs": [
    {
     "data": {
      "text/plain": [
       "array([[2., 3., 4.],\n",
       "       [2., 3., 4.]])"
      ]
     },
     "execution_count": 57,
     "metadata": {},
     "output_type": "execute_result"
    }
   ],
   "source": [
    "a1 + one "
   ]
  },
  {
   "cell_type": "code",
   "execution_count": 58,
   "id": "15a368e3",
   "metadata": {},
   "outputs": [
    {
     "data": {
      "text/plain": [
       "array([[0., 1., 2.],\n",
       "       [0., 1., 2.]])"
      ]
     },
     "execution_count": 58,
     "metadata": {},
     "output_type": "execute_result"
    }
   ],
   "source": [
    " a1 - one"
   ]
  },
  {
   "cell_type": "code",
   "execution_count": 59,
   "id": "cf858c03",
   "metadata": {},
   "outputs": [
    {
     "data": {
      "text/plain": [
       "array([[1., 2., 3.],\n",
       "       [1., 2., 3.]])"
      ]
     },
     "execution_count": 59,
     "metadata": {},
     "output_type": "execute_result"
    }
   ],
   "source": [
    "a1 * one "
   ]
  },
  {
   "cell_type": "code",
   "execution_count": 60,
   "id": "e5e3b70b",
   "metadata": {},
   "outputs": [
    {
     "data": {
      "text/plain": [
       "array([1, 2, 3])"
      ]
     },
     "execution_count": 60,
     "metadata": {},
     "output_type": "execute_result"
    }
   ],
   "source": [
    "a1"
   ]
  },
  {
   "cell_type": "code",
   "execution_count": 61,
   "id": "1839dfd0",
   "metadata": {},
   "outputs": [
    {
     "data": {
      "text/plain": [
       "array([[1. , 2.3, 3.3],\n",
       "       [4. , 5. , 6.5]])"
      ]
     },
     "execution_count": 61,
     "metadata": {},
     "output_type": "execute_result"
    }
   ],
   "source": [
    "a2 "
   ]
  },
  {
   "cell_type": "code",
   "execution_count": 62,
   "id": "a3b1e2e5",
   "metadata": {},
   "outputs": [
    {
     "data": {
      "text/plain": [
       "array([[ 1. ,  4.6,  9.9],\n",
       "       [ 4. , 10. , 19.5]])"
      ]
     },
     "execution_count": 62,
     "metadata": {},
     "output_type": "execute_result"
    }
   ],
   "source": [
    "a1 *a2"
   ]
  },
  {
   "cell_type": "code",
   "execution_count": 63,
   "id": "f275b7fb",
   "metadata": {},
   "outputs": [
    {
     "ename": "ValueError",
     "evalue": "operands could not be broadcast together with shapes (2,3) (2,3,3) ",
     "output_type": "error",
     "traceback": [
      "\u001b[1;31m---------------------------------------------------------------------------\u001b[0m",
      "\u001b[1;31mValueError\u001b[0m                                Traceback (most recent call last)",
      "Cell \u001b[1;32mIn[63], line 5\u001b[0m\n\u001b[0;32m      1\u001b[0m \u001b[38;5;66;03m# How can you reshape a2 to be compatible w a3 ?\u001b[39;00m\n\u001b[0;32m      2\u001b[0m \u001b[38;5;66;03m# Search:\"How to reshape numpy array?\"\u001b[39;00m\n\u001b[1;32m----> 5\u001b[0m a2 \u001b[38;5;241m*\u001b[39m a3\n",
      "\u001b[1;31mValueError\u001b[0m: operands could not be broadcast together with shapes (2,3) (2,3,3) "
     ]
    }
   ],
   "source": [
    "# How can you reshape a2 to be compatible w a3 ?\n",
    "# Search:\"How to reshape numpy array?\"\n",
    "\n",
    "\n",
    "a2 * a3"
   ]
  },
  {
   "cell_type": "code",
   "execution_count": null,
   "id": "da844aab",
   "metadata": {},
   "outputs": [],
   "source": [
    "a1 / one"
   ]
  },
  {
   "cell_type": "code",
   "execution_count": null,
   "id": "4fab526b",
   "metadata": {},
   "outputs": [],
   "source": [
    "a1 / a2"
   ]
  },
  {
   "cell_type": "code",
   "execution_count": null,
   "id": "b2dde922",
   "metadata": {},
   "outputs": [],
   "source": [
    "a1 // a2"
   ]
  },
  {
   "cell_type": "code",
   "execution_count": null,
   "id": "e330b2c2",
   "metadata": {},
   "outputs": [],
   "source": [
    "a2 ** a1"
   ]
  },
  {
   "cell_type": "code",
   "execution_count": null,
   "id": "31e0bfb9",
   "metadata": {},
   "outputs": [],
   "source": [
    "a1"
   ]
  },
  {
   "cell_type": "code",
   "execution_count": null,
   "id": "6700e560",
   "metadata": {},
   "outputs": [],
   "source": [
    "a2"
   ]
  },
  {
   "cell_type": "code",
   "execution_count": null,
   "id": "a450d3f1",
   "metadata": {},
   "outputs": [],
   "source": [
    "a2 % a1"
   ]
  },
  {
   "cell_type": "markdown",
   "id": "768ec402",
   "metadata": {},
   "source": [
    "#### Exponantials"
   ]
  },
  {
   "cell_type": "code",
   "execution_count": null,
   "id": "69e382c6",
   "metadata": {},
   "outputs": [],
   "source": [
    "np.exp(a1)"
   ]
  },
  {
   "cell_type": "markdown",
   "id": "01fde77f",
   "metadata": {},
   "source": [
    "#### Logarithms"
   ]
  },
  {
   "cell_type": "code",
   "execution_count": 64,
   "id": "bbeed273",
   "metadata": {},
   "outputs": [
    {
     "data": {
      "text/plain": [
       "array([0.        , 0.69314718, 1.09861229])"
      ]
     },
     "execution_count": 64,
     "metadata": {},
     "output_type": "execute_result"
    }
   ],
   "source": [
    "np.log(a1)"
   ]
  },
  {
   "cell_type": "markdown",
   "id": "befc69cb",
   "metadata": {},
   "source": [
    "### Aggregation\n",
    "The formation of a number of things in a cluster"
   ]
  },
  {
   "cell_type": "code",
   "execution_count": 65,
   "id": "68f318ca",
   "metadata": {},
   "outputs": [
    {
     "data": {
      "text/plain": [
       "list"
      ]
     },
     "execution_count": 65,
     "metadata": {},
     "output_type": "execute_result"
    }
   ],
   "source": [
    "list_list = [1,2,3]\n",
    "type(list_list)"
   ]
  },
  {
   "cell_type": "code",
   "execution_count": 66,
   "id": "52602641",
   "metadata": {},
   "outputs": [
    {
     "data": {
      "text/plain": [
       "6"
      ]
     },
     "execution_count": 66,
     "metadata": {},
     "output_type": "execute_result"
    }
   ],
   "source": [
    "sum(list_list)"
   ]
  },
  {
   "cell_type": "code",
   "execution_count": 67,
   "id": "be1f5ca1",
   "metadata": {},
   "outputs": [
    {
     "data": {
      "text/plain": [
       "6"
      ]
     },
     "execution_count": 67,
     "metadata": {},
     "output_type": "execute_result"
    }
   ],
   "source": [
    "sum(a1)"
   ]
  },
  {
   "cell_type": "code",
   "execution_count": 68,
   "id": "ee9c2ad9",
   "metadata": {},
   "outputs": [
    {
     "data": {
      "text/plain": [
       "6"
      ]
     },
     "execution_count": 68,
     "metadata": {},
     "output_type": "execute_result"
    }
   ],
   "source": [
    "np.sum(a1)"
   ]
  },
  {
   "cell_type": "markdown",
   "id": "b632f1d0",
   "metadata": {},
   "source": [
    "Use Python's methods(`sum()`) on Python datatypes & use NumPy's methods(`np.sum()`) on NumPy's Dattypes"
   ]
  },
  {
   "cell_type": "code",
   "execution_count": 69,
   "id": "b2af41bd",
   "metadata": {},
   "outputs": [
    {
     "data": {
      "text/plain": [
       "100000"
      ]
     },
     "execution_count": 69,
     "metadata": {},
     "output_type": "execute_result"
    }
   ],
   "source": [
    "#Create a massive NumPy Array\n",
    "massive_array = np.random.random(100000)\n",
    "massive_array.size"
   ]
  },
  {
   "cell_type": "code",
   "execution_count": 70,
   "id": "aa692afa",
   "metadata": {},
   "outputs": [
    {
     "data": {
      "text/plain": [
       "array([0.72540315, 0.54143928, 0.48258449, 0.47647761, 0.44603283,\n",
       "       0.81607006, 0.27435149, 0.06196201, 0.96029634, 0.45811813])"
      ]
     },
     "execution_count": 70,
     "metadata": {},
     "output_type": "execute_result"
    }
   ],
   "source": [
    "massive_array[:10]"
   ]
  },
  {
   "cell_type": "markdown",
   "id": "6f52d528",
   "metadata": {},
   "source": [
    "`%timeit`is one of the magic commands of the jupyter notebook(times  how long a particular set of codes takes to run)"
   ]
  },
  {
   "cell_type": "code",
   "execution_count": 71,
   "id": "570bfc39",
   "metadata": {},
   "outputs": [
    {
     "name": "stdout",
     "output_type": "stream",
     "text": [
      "12.4 ms ± 1.09 ms per loop (mean ± std. dev. of 7 runs, 100 loops each)\n",
      "48.9 µs ± 4.96 µs per loop (mean ± std. dev. of 7 runs, 10,000 loops each)\n"
     ]
    }
   ],
   "source": [
    "%timeit sum(massive_array) #Python's sum()\n",
    "%timeit np.sum(massive_array) # NumPy's sum()\n"
   ]
  },
  {
   "cell_type": "code",
   "execution_count": 72,
   "id": "bf236900",
   "metadata": {},
   "outputs": [
    {
     "data": {
      "text/plain": [
       "array([[1. , 2.3, 3.3],\n",
       "       [4. , 5. , 6.5]])"
      ]
     },
     "execution_count": 72,
     "metadata": {},
     "output_type": "execute_result"
    }
   ],
   "source": [
    "a2"
   ]
  },
  {
   "cell_type": "code",
   "execution_count": 73,
   "id": "87ecd0ed",
   "metadata": {},
   "outputs": [
    {
     "data": {
      "text/plain": [
       "3.6833333333333336"
      ]
     },
     "execution_count": 73,
     "metadata": {},
     "output_type": "execute_result"
    }
   ],
   "source": [
    "np.mean(a2)"
   ]
  },
  {
   "cell_type": "code",
   "execution_count": 74,
   "id": "caf07b3c",
   "metadata": {},
   "outputs": [
    {
     "data": {
      "text/plain": [
       "1.0"
      ]
     },
     "execution_count": 74,
     "metadata": {},
     "output_type": "execute_result"
    }
   ],
   "source": [
    "np.min(a2)"
   ]
  },
  {
   "cell_type": "code",
   "execution_count": 75,
   "id": "384e483f",
   "metadata": {},
   "outputs": [
    {
     "data": {
      "text/plain": [
       "1.7808393776219373"
      ]
     },
     "execution_count": 75,
     "metadata": {},
     "output_type": "execute_result"
    }
   ],
   "source": [
    "# Standart deviation = a measure of how spread out a group of numbers is from the mean.\n",
    "np.std(a2)\n"
   ]
  },
  {
   "cell_type": "code",
   "execution_count": 76,
   "id": "3a1ec081",
   "metadata": {},
   "outputs": [
    {
     "data": {
      "text/plain": [
       "3.1713888888888895"
      ]
     },
     "execution_count": 76,
     "metadata": {},
     "output_type": "execute_result"
    }
   ],
   "source": [
    "# Variance = Measure of the average degree to which each number is different to the mean. \n",
    "# Higher variance = Higher range of numbers.\n",
    "# Lower variance = Lower range of numbers.\n",
    "np.var(a2)"
   ]
  },
  {
   "cell_type": "code",
   "execution_count": 77,
   "id": "27fae3f2",
   "metadata": {},
   "outputs": [
    {
     "name": "stdout",
     "output_type": "stream",
     "text": [
      "True\n"
     ]
    }
   ],
   "source": [
    "# Standart Deviation = Squareroot of variance \n",
    "if  np.sqrt(np.var(a2)) == np.std(a2):\n",
    "    print(\"True\")"
   ]
  },
  {
   "cell_type": "code",
   "execution_count": 78,
   "id": "51db99c9",
   "metadata": {},
   "outputs": [],
   "source": [
    "# Demo of std & var\n",
    "high_var_array = np.array([1,100,200,300,4000,5000])\n",
    "low_var_array = np.array([1,2,3,4,5,6])"
   ]
  },
  {
   "cell_type": "code",
   "execution_count": 79,
   "id": "2bdf153f",
   "metadata": {},
   "outputs": [
    {
     "data": {
      "text/plain": [
       "(4296133.472222221, 2.9166666666666665)"
      ]
     },
     "execution_count": 79,
     "metadata": {},
     "output_type": "execute_result"
    }
   ],
   "source": [
    "np.var(high_var_array), np.var(low_var_array)"
   ]
  },
  {
   "cell_type": "code",
   "execution_count": 80,
   "id": "6de8cb22",
   "metadata": {},
   "outputs": [
    {
     "data": {
      "text/plain": [
       "(2072.711623024829, 1.707825127659933)"
      ]
     },
     "execution_count": 80,
     "metadata": {},
     "output_type": "execute_result"
    }
   ],
   "source": [
    "np.std(high_var_array),np.std(low_var_array)"
   ]
  },
  {
   "cell_type": "code",
   "execution_count": 81,
   "id": "ea711693",
   "metadata": {},
   "outputs": [
    {
     "data": {
      "text/plain": [
       "(1600.1666666666667, 3.5)"
      ]
     },
     "execution_count": 81,
     "metadata": {},
     "output_type": "execute_result"
    }
   ],
   "source": [
    "np.mean(high_var_array),np.mean(low_var_array)"
   ]
  },
  {
   "cell_type": "markdown",
   "id": "cc8f5770",
   "metadata": {},
   "source": [
    ".."
   ]
  },
  {
   "cell_type": "markdown",
   "id": "db91bc9e",
   "metadata": {},
   "source": [
    "."
   ]
  },
  {
   "cell_type": "markdown",
   "id": "c8ea371e",
   "metadata": {},
   "source": [
    "."
   ]
  },
  {
   "cell_type": "markdown",
   "id": "2b3d32d7",
   "metadata": {},
   "source": [
    ".\n"
   ]
  },
  {
   "cell_type": "markdown",
   "id": "558565b9",
   "metadata": {},
   "source": [
    "..."
   ]
  },
  {
   "cell_type": "code",
   "execution_count": 87,
   "id": "30b646fd",
   "metadata": {},
   "outputs": [
    {
     "data": {
      "text/plain": [
       "array([0.72540315, 0.54143928, 0.48258449, 0.47647761, 0.44603283,\n",
       "       0.81607006, 0.27435149, 0.06196201, 0.96029634, 0.45811813])"
      ]
     },
     "execution_count": 87,
     "metadata": {},
     "output_type": "execute_result"
    }
   ],
   "source": [
    "massive_array[:10]"
   ]
  },
  {
   "cell_type": "code",
   "execution_count": 89,
   "id": "b532dbf3",
   "metadata": {},
   "outputs": [
    {
     "data": {
      "image/png": "[encoded data removed]",
      "text/plain": [
       "<Figure size 640x480 with 1 Axes>"
      ]
     },
     "metadata": {},
     "output_type": "display_data"
    }
   ],
   "source": [
    "%matplotlib inline\n",
    "import matplotlib.pyplot as plt\n",
    "plt.hist(high_var_array)\n",
    "plt.show()"
   ]
  },
  {
   "cell_type": "code",
   "execution_count": 93,
   "id": "cb4c0464",
   "metadata": {},
   "outputs": [
    {
     "data": {
      "image/png": "[encoded data removed]",
      "text/plain": [
       "<Figure size 640x480 with 1 Axes>"
      ]
     },
     "metadata": {},
     "output_type": "display_data"
    }
   ],
   "source": [
    "plt.hist(low_var_array)\n",
    "plt.show()\n"
   ]
  },
  {
   "cell_type": "markdown",
   "id": "76da203a",
   "metadata": {},
   "source": [
    "### Reshaping & Transposing"
   ]
  },
  {
   "cell_type": "code",
   "execution_count": 94,
   "id": "b3c70857",
   "metadata": {},
   "outputs": [
    {
     "data": {
      "text/plain": [
       "array([[1. , 2.3, 3.3],\n",
       "       [4. , 5. , 6.5]])"
      ]
     },
     "execution_count": 94,
     "metadata": {},
     "output_type": "execute_result"
    }
   ],
   "source": [
    "a2"
   ]
  },
  {
   "cell_type": "code",
   "execution_count": 95,
   "id": "720dcc72",
   "metadata": {},
   "outputs": [
    {
     "data": {
      "text/plain": [
       "(2, 3)"
      ]
     },
     "execution_count": 95,
     "metadata": {},
     "output_type": "execute_result"
    }
   ],
   "source": [
    "a2.shape "
   ]
  },
  {
   "cell_type": "code",
   "execution_count": 96,
   "id": "d5c8ac58",
   "metadata": {},
   "outputs": [
    {
     "data": {
      "text/plain": [
       "array([[[ 1. ,  2. ,  3. ],\n",
       "        [ 4. ,  5.5,  6. ],\n",
       "        [ 7. ,  8. ,  9. ]],\n",
       "\n",
       "       [[10. , 11. , 12. ],\n",
       "        [13. , 14. , 15. ],\n",
       "        [16. , 17. , 18. ]]])"
      ]
     },
     "execution_count": 96,
     "metadata": {},
     "output_type": "execute_result"
    }
   ],
   "source": [
    "a3"
   ]
  },
  {
   "cell_type": "code",
   "execution_count": 97,
   "id": "60b7c694",
   "metadata": {},
   "outputs": [
    {
     "data": {
      "text/plain": [
       "(2, 3, 3)"
      ]
     },
     "execution_count": 97,
     "metadata": {},
     "output_type": "execute_result"
    }
   ],
   "source": [
    "a3.shape"
   ]
  },
  {
   "cell_type": "code",
   "execution_count": 98,
   "id": "9e66acac",
   "metadata": {},
   "outputs": [
    {
     "ename": "ValueError",
     "evalue": "operands could not be broadcast together with shapes (2,3) (2,3,3) ",
     "output_type": "error",
     "traceback": [
      "\u001b[1;31m---------------------------------------------------------------------------\u001b[0m",
      "\u001b[1;31mValueError\u001b[0m                                Traceback (most recent call last)",
      "Cell \u001b[1;32mIn[98], line 1\u001b[0m\n\u001b[1;32m----> 1\u001b[0m a2 \u001b[38;5;241m*\u001b[39m a3\n",
      "\u001b[1;31mValueError\u001b[0m: operands could not be broadcast together with shapes (2,3) (2,3,3) "
     ]
    }
   ],
   "source": [
    "a2 * a3"
   ]
  },
  {
   "cell_type": "code",
   "execution_count": 100,
   "id": "0fa95b78",
   "metadata": {},
   "outputs": [
    {
     "data": {
      "text/plain": [
       "(2, 3)"
      ]
     },
     "execution_count": 100,
     "metadata": {},
     "output_type": "execute_result"
    }
   ],
   "source": [
    "a2.shape"
   ]
  },
  {
   "cell_type": "code",
   "execution_count": 101,
   "id": "c3dab2c5",
   "metadata": {},
   "outputs": [
    {
     "data": {
      "text/plain": [
       "array([[[1. ],\n",
       "        [2.3],\n",
       "        [3.3]],\n",
       "\n",
       "       [[4. ],\n",
       "        [5. ],\n",
       "        [6.5]]])"
      ]
     },
     "execution_count": 101,
     "metadata": {},
     "output_type": "execute_result"
    }
   ],
   "source": [
    "a2.reshape(2,3,1)"
   ]
  },
  {
   "cell_type": "code",
   "execution_count": 102,
   "id": "2712d149",
   "metadata": {},
   "outputs": [
    {
     "data": {
      "text/plain": [
       "(2, 3)"
      ]
     },
     "execution_count": 102,
     "metadata": {},
     "output_type": "execute_result"
    }
   ],
   "source": [
    "a2.shape\n"
   ]
  },
  {
   "cell_type": "code",
   "execution_count": 104,
   "id": "284e79fa",
   "metadata": {},
   "outputs": [
    {
     "data": {
      "text/plain": [
       "array([[[1. ],\n",
       "        [2.3],\n",
       "        [3.3]],\n",
       "\n",
       "       [[4. ],\n",
       "        [5. ],\n",
       "        [6.5]]])"
      ]
     },
     "execution_count": 104,
     "metadata": {},
     "output_type": "execute_result"
    }
   ],
   "source": [
    "a2_reshape = a2.reshape(2,3,1) \n",
    "a2_reshape "
   ]
  },
  {
   "cell_type": "code",
   "execution_count": 105,
   "id": "24e22294",
   "metadata": {},
   "outputs": [
    {
     "data": {
      "text/plain": [
       "array([[[  1.  ,   2.  ,   3.  ],\n",
       "        [  9.2 ,  12.65,  13.8 ],\n",
       "        [ 23.1 ,  26.4 ,  29.7 ]],\n",
       "\n",
       "       [[ 40.  ,  44.  ,  48.  ],\n",
       "        [ 65.  ,  70.  ,  75.  ],\n",
       "        [104.  , 110.5 , 117.  ]]])"
      ]
     },
     "execution_count": 105,
     "metadata": {},
     "output_type": "execute_result"
    }
   ],
   "source": [
    "a2_reshape * a3"
   ]
  },
  {
   "cell_type": "code",
   "execution_count": 107,
   "id": "309012b6",
   "metadata": {},
   "outputs": [
    {
     "data": {
      "text/plain": [
       "array([[1. , 2.3, 3.3],\n",
       "       [4. , 5. , 6.5]])"
      ]
     },
     "execution_count": 107,
     "metadata": {},
     "output_type": "execute_result"
    }
   ],
   "source": [
    "a2"
   ]
  },
  {
   "cell_type": "code",
   "execution_count": 108,
   "id": "db2f3710",
   "metadata": {},
   "outputs": [
    {
     "data": {
      "text/plain": [
       "array([[1. , 4. ],\n",
       "       [2.3, 5. ],\n",
       "       [3.3, 6.5]])"
      ]
     },
     "execution_count": 108,
     "metadata": {},
     "output_type": "execute_result"
    }
   ],
   "source": [
    "# Transpose = it switches the axis'\n",
    "a2.T"
   ]
  },
  {
   "cell_type": "code",
   "execution_count": 109,
   "id": "9cd608ab",
   "metadata": {},
   "outputs": [
    {
     "data": {
      "text/plain": [
       "(3, 2)"
      ]
     },
     "execution_count": 109,
     "metadata": {},
     "output_type": "execute_result"
    }
   ],
   "source": [
    "a2.T.shape"
   ]
  },
  {
   "cell_type": "code",
   "execution_count": 113,
   "id": "be1e39aa",
   "metadata": {},
   "outputs": [
    {
     "data": {
      "text/plain": [
       "array([[[ 1. ,  2. ,  3. ],\n",
       "        [ 4. ,  5.5,  6. ],\n",
       "        [ 7. ,  8. ,  9. ]],\n",
       "\n",
       "       [[10. , 11. , 12. ],\n",
       "        [13. , 14. , 15. ],\n",
       "        [16. , 17. , 18. ]]])"
      ]
     },
     "execution_count": 113,
     "metadata": {},
     "output_type": "execute_result"
    }
   ],
   "source": [
    "a3"
   ]
  },
  {
   "cell_type": "code",
   "execution_count": 110,
   "id": "6bb849aa",
   "metadata": {},
   "outputs": [
    {
     "data": {
      "text/plain": [
       "(2, 3, 3)"
      ]
     },
     "execution_count": 110,
     "metadata": {},
     "output_type": "execute_result"
    }
   ],
   "source": [
    "a3.shape"
   ]
  },
  {
   "cell_type": "code",
   "execution_count": 111,
   "id": "48e51ccd",
   "metadata": {},
   "outputs": [
    {
     "data": {
      "text/plain": [
       "array([[[ 1. , 10. ],\n",
       "        [ 4. , 13. ],\n",
       "        [ 7. , 16. ]],\n",
       "\n",
       "       [[ 2. , 11. ],\n",
       "        [ 5.5, 14. ],\n",
       "        [ 8. , 17. ]],\n",
       "\n",
       "       [[ 3. , 12. ],\n",
       "        [ 6. , 15. ],\n",
       "        [ 9. , 18. ]]])"
      ]
     },
     "execution_count": 111,
     "metadata": {},
     "output_type": "execute_result"
    }
   ],
   "source": [
    "a3.T"
   ]
  },
  {
   "cell_type": "code",
   "execution_count": 112,
   "id": "a050a025",
   "metadata": {},
   "outputs": [
    {
     "data": {
      "text/plain": [
       "(3, 3, 2)"
      ]
     },
     "execution_count": 112,
     "metadata": {},
     "output_type": "execute_result"
    }
   ],
   "source": [
    "a3.T.shape"
   ]
  },
  {
   "cell_type": "markdown",
   "id": "d77f462d",
   "metadata": {},
   "source": [
    "#### My exercise "
   ]
  },
  {
   "cell_type": "code",
   "execution_count": 122,
   "id": "aba5084d",
   "metadata": {},
   "outputs": [
    {
     "data": {
      "text/plain": [
       "array([[[[0.43136276, 0.42175593, 0.45526969, 0.6260357 , 0.8460935 ],\n",
       "         [0.83077088, 0.54307192, 0.69260487, 0.72856214, 0.25882275],\n",
       "         [0.12287295, 0.71133527, 0.79746054, 0.52166221, 0.49598646],\n",
       "         [0.99728176, 0.39324643, 0.98077549, 0.47846066, 0.03288558]],\n",
       "\n",
       "        [[0.79404389, 0.98225213, 0.06885631, 0.20766039, 0.596809  ],\n",
       "         [0.37787875, 0.61770958, 0.46926367, 0.24826247, 0.78860166],\n",
       "         [0.73082853, 0.80329904, 0.00108188, 0.53861321, 0.50611289],\n",
       "         [0.23250787, 0.32184301, 0.95804868, 0.61702207, 0.75134997]]],\n",
       "\n",
       "\n",
       "       [[[0.98701478, 0.27571634, 0.7128536 , 0.55673035, 0.13197941],\n",
       "         [0.61441216, 0.44686931, 0.72714045, 0.19903667, 0.41410194],\n",
       "         [0.56949274, 0.42940658, 0.48704557, 0.28087491, 0.33944939],\n",
       "         [0.95622467, 0.68948893, 0.40115479, 0.20071846, 0.88807469]],\n",
       "\n",
       "        [[0.71402476, 0.18954648, 0.0601834 , 0.42142   , 0.45266434],\n",
       "         [0.76563655, 0.58526495, 0.33810026, 0.83033146, 0.55391723],\n",
       "         [0.53541645, 0.37886967, 0.99999007, 0.66904859, 0.18812903],\n",
       "         [0.71039913, 0.23478069, 0.02870584, 0.9043918 , 0.77737727]]],\n",
       "\n",
       "\n",
       "       [[[0.47121464, 0.37403108, 0.86128157, 0.45747044, 0.87270841],\n",
       "         [0.40910189, 0.31234665, 0.62340364, 0.66432513, 0.96305018],\n",
       "         [0.71928388, 0.55055683, 0.19636825, 0.9601779 , 0.56498425],\n",
       "         [0.79157881, 0.80546499, 0.77694312, 0.72084672, 0.76863567]],\n",
       "\n",
       "        [[0.89945631, 0.15859636, 0.24948163, 0.16305989, 0.44763444],\n",
       "         [0.15343408, 0.31546482, 0.01977553, 0.10334844, 0.3860876 ],\n",
       "         [0.35185067, 0.09205813, 0.14579587, 0.43402753, 0.507261  ],\n",
       "         [0.54231179, 0.09465393, 0.05152896, 0.52178361, 0.6189417 ]]]])"
      ]
     },
     "execution_count": 122,
     "metadata": {},
     "output_type": "execute_result"
    }
   ],
   "source": [
    "new_arrray = np.random.random((3,2,4,5))\n",
    "new_arrray"
   ]
  },
  {
   "cell_type": "code",
   "execution_count": 129,
   "id": "67c8efe4",
   "metadata": {},
   "outputs": [
    {
     "data": {
      "text/plain": [
       "array([[[5, 5],\n",
       "        [3, 2],\n",
       "        [2, 3]],\n",
       "\n",
       "       [[3, 5],\n",
       "        [1, 1],\n",
       "        [1, 6]],\n",
       "\n",
       "       [[7, 9],\n",
       "        [5, 8],\n",
       "        [2, 8]],\n",
       "\n",
       "       [[5, 1],\n",
       "        [8, 6],\n",
       "        [5, 6]],\n",
       "\n",
       "       [[1, 1],\n",
       "        [2, 8],\n",
       "        [4, 4]]])"
      ]
     },
     "execution_count": 129,
     "metadata": {},
     "output_type": "execute_result"
    }
   ],
   "source": [
    "new_array2 = np.random.randint(1,10, size=(5,3,2))\n",
    "new_array2"
   ]
  },
  {
   "cell_type": "code",
   "execution_count": 130,
   "id": "66a1fb12",
   "metadata": {},
   "outputs": [
    {
     "ename": "ValueError",
     "evalue": "operands could not be broadcast together with shapes (3,2,4,5) (5,3,2) ",
     "output_type": "error",
     "traceback": [
      "\u001b[1;31m---------------------------------------------------------------------------\u001b[0m",
      "\u001b[1;31mValueError\u001b[0m                                Traceback (most recent call last)",
      "Cell \u001b[1;32mIn[130], line 1\u001b[0m\n\u001b[1;32m----> 1\u001b[0m new_arrray \u001b[38;5;241m*\u001b[39m new_array2\n",
      "\u001b[1;31mValueError\u001b[0m: operands could not be broadcast together with shapes (3,2,4,5) (5,3,2) "
     ]
    }
   ],
   "source": [
    "new_arrray * new_array2"
   ]
  },
  {
   "cell_type": "code",
   "execution_count": 131,
   "id": "fb559522",
   "metadata": {},
   "outputs": [
    {
     "data": {
      "text/plain": [
       "array([[[5, 5],\n",
       "        [3, 2],\n",
       "        [2, 3]],\n",
       "\n",
       "       [[3, 5],\n",
       "        [1, 1],\n",
       "        [1, 6]],\n",
       "\n",
       "       [[7, 9],\n",
       "        [5, 8],\n",
       "        [2, 8]],\n",
       "\n",
       "       [[5, 1],\n",
       "        [8, 6],\n",
       "        [5, 6]],\n",
       "\n",
       "       [[1, 1],\n",
       "        [2, 8],\n",
       "        [4, 4]]])"
      ]
     },
     "execution_count": 131,
     "metadata": {},
     "output_type": "execute_result"
    }
   ],
   "source": [
    "new_array2.reshape(5,3,2,1)\n",
    "new_array2"
   ]
  },
  {
   "cell_type": "code",
   "execution_count": 132,
   "id": "063d2ef1",
   "metadata": {},
   "outputs": [
    {
     "data": {
      "text/plain": [
       "array([[[25, 25],\n",
       "        [ 9,  4],\n",
       "        [ 4,  9]],\n",
       "\n",
       "       [[ 9, 25],\n",
       "        [ 1,  1],\n",
       "        [ 1, 36]],\n",
       "\n",
       "       [[49, 81],\n",
       "        [25, 64],\n",
       "        [ 4, 64]],\n",
       "\n",
       "       [[25,  1],\n",
       "        [64, 36],\n",
       "        [25, 36]],\n",
       "\n",
       "       [[ 1,  1],\n",
       "        [ 4, 64],\n",
       "        [16, 16]]])"
      ]
     },
     "execution_count": 132,
     "metadata": {},
     "output_type": "execute_result"
    }
   ],
   "source": [
    "new_array2 * new_array2"
   ]
  },
  {
   "cell_type": "code",
   "execution_count": 133,
   "id": "28255b31",
   "metadata": {},
   "outputs": [
    {
     "data": {
      "text/plain": [
       "array([[[5, 3, 7, 5, 1],\n",
       "        [3, 1, 5, 8, 2],\n",
       "        [2, 1, 2, 5, 4]],\n",
       "\n",
       "       [[5, 5, 9, 1, 1],\n",
       "        [2, 1, 8, 6, 8],\n",
       "        [3, 6, 8, 6, 4]]])"
      ]
     },
     "execution_count": 133,
     "metadata": {},
     "output_type": "execute_result"
    }
   ],
   "source": [
    "new_array2.T"
   ]
  },
  {
   "cell_type": "code",
   "execution_count": 134,
   "id": "8fa7809e",
   "metadata": {},
   "outputs": [
    {
     "data": {
      "text/plain": [
       "(5, 3, 2)"
      ]
     },
     "execution_count": 134,
     "metadata": {},
     "output_type": "execute_result"
    }
   ],
   "source": [
    "new_array2.shape"
   ]
  },
  {
   "cell_type": "code",
   "execution_count": 135,
   "id": "104afde5",
   "metadata": {},
   "outputs": [
    {
     "data": {
      "text/plain": [
       "(2, 3, 5)"
      ]
     },
     "execution_count": 135,
     "metadata": {},
     "output_type": "execute_result"
    }
   ],
   "source": [
    "new_array2.T.shape"
   ]
  },
  {
   "cell_type": "code",
   "execution_count": 138,
   "id": "51690802",
   "metadata": {},
   "outputs": [
    {
     "data": {
      "image/png": "[encoded data removed]",
      "text/plain": [
       "<Figure size 640x480 with 1 Axes>"
      ]
     },
     "metadata": {},
     "output_type": "display_data"
    }
   ],
   "source": [
    "new_array3 = np.random.randint(1,10000, size=(8,5))\n",
    "plt.hist(new_array3)\n",
    "plt.show()"
   ]
  },
  {
   "cell_type": "code",
   "execution_count": null,
   "id": "fd359baa",
   "metadata": {},
   "outputs": [],
   "source": []
  },
  {
   "cell_type": "markdown",
   "id": "64550f0a",
   "metadata": {},
   "source": [
    "##### one of the main uses for transposing an array is the dot product "
   ]
  },
  {
   "cell_type": "code",
   "execution_count": null,
   "id": "79f47929",
   "metadata": {},
   "outputs": [],
   "source": []
  },
  {
   "cell_type": "code",
   "execution_count": null,
   "id": "8692ceb6",
   "metadata": {},
   "outputs": [],
   "source": []
  },
  {
   "cell_type": "code",
   "execution_count": null,
   "id": "d1d5b3b3",
   "metadata": {},
   "outputs": [],
   "source": []
  },
  {
   "cell_type": "code",
   "execution_count": null,
   "id": "49ab0769",
   "metadata": {},
   "outputs": [],
   "source": []
  },
  {
   "cell_type": "code",
   "execution_count": null,
   "id": "dbe94447",
   "metadata": {},
   "outputs": [],
   "source": []
  },
  {
   "cell_type": "code",
   "execution_count": null,
   "id": "8f2010ca",
   "metadata": {},
   "outputs": [],
   "source": []
  },
  {
   "cell_type": "code",
   "execution_count": null,
   "id": "690ac66f",
   "metadata": {},
   "outputs": [],
   "source": []
  },
  {
   "cell_type": "code",
   "execution_count": null,
   "id": "cc4f18a2",
   "metadata": {},
   "outputs": [],
   "source": []
  },
  {
   "cell_type": "code",
   "execution_count": null,
   "id": "f3249301",
   "metadata": {},
   "outputs": [],
   "source": []
  },
  {
   "cell_type": "code",
   "execution_count": null,
   "id": "311b79bf",
   "metadata": {},
   "outputs": [],
   "source": []
  },
  {
   "cell_type": "code",
   "execution_count": null,
   "id": "1b08c202",
   "metadata": {},
   "outputs": [],
   "source": []
  },
  {
   "cell_type": "code",
   "execution_count": null,
   "id": "cfa1fdda",
   "metadata": {},
   "outputs": [],
   "source": []
  },
  {
   "cell_type": "code",
   "execution_count": null,
   "id": "8521c7e6",
   "metadata": {},
   "outputs": [],
   "source": []
  },
  {
   "cell_type": "code",
   "execution_count": null,
   "id": "95e56df9",
   "metadata": {},
   "outputs": [],
   "source": []
  },
  {
   "cell_type": "code",
   "execution_count": null,
   "id": "297a0e3a",
   "metadata": {},
   "outputs": [],
   "source": []
  },
  {
   "cell_type": "code",
   "execution_count": null,
   "id": "a07ec748",
   "metadata": {},
   "outputs": [],
   "source": []
  },
  {
   "cell_type": "code",
   "execution_count": null,
   "id": "af9a60db",
   "metadata": {},
   "outputs": [],
   "source": []
  },
  {
   "cell_type": "code",
   "execution_count": null,
   "id": "d9d31863",
   "metadata": {},
   "outputs": [],
   "source": []
  },
  {
   "cell_type": "code",
   "execution_count": null,
   "id": "b7b67514",
   "metadata": {},
   "outputs": [],
   "source": []
  },
  {
   "cell_type": "code",
   "execution_count": null,
   "id": "e829335c",
   "metadata": {},
   "outputs": [],
   "source": []
  }
 ],
 "metadata": {
  "kernelspec": {
   "display_name": "Python 3 (ipykernel)",
   "language": "python",
   "name": "python3"
  },
  "language_info": {
   "codemirror_mode": {
    "name": "ipython",
    "version": 3
   },
   "file_extension": ".py",
   "mimetype": "text/x-python",
   "name": "python",
   "nbconvert_exporter": "python",
   "pygments_lexer": "ipython3",
   "version": "3.11.3"
  }
 },
 "nbformat": 4,
 "nbformat_minor": 5
}
